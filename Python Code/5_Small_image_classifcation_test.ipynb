{
  "cells": [
    {
      "cell_type": "markdown",
      "metadata": {
        "id": "6VEOwIYtJCTu"
      },
      "source": [
        "### small image 분류 성능 지표"
      ]
    },
    {
      "cell_type": "markdown",
      "metadata": {
        "id": "yOxN7CRcI82z"
      },
      "source": [
        "자전거"
      ]
    },
    {
      "cell_type": "code",
      "execution_count": null,
      "metadata": {
        "colab": {
          "base_uri": "https://localhost:8080/"
        },
        "id": "uQiFmc_In0b1",
        "outputId": "8a704b15-42f5-4d3d-a62d-021415ec7c97"
      },
      "outputs": [
        {
          "name": "stdout",
          "output_type": "stream",
          "text": [
            "              precision    recall  f1-score   support\n",
            "\n",
            "           0       0.96      0.93      0.95       739\n",
            "           1       0.73      0.84      0.78       160\n",
            "\n",
            "    accuracy                           0.92       899\n",
            "   macro avg       0.85      0.89      0.86       899\n",
            "weighted avg       0.92      0.92      0.92       899\n",
            "\n"
          ]
        }
      ],
      "source": [
        "from sklearn.metrics import classification_report\n",
        "\n",
        "df_bicycle = pd.read_csv('/content/drive/MyDrive/Kaggle/Output/df_bicycle.csv', encoding='cp1252')\n",
        "df_bicycle = df_bicycle.rename(columns={'0': 'Predicted', '0.1': 'Actual'})\n",
        "\n",
        "y_pred = df_bicycle['Predicted']\n",
        "y_true = df_bicycle['Actual']\n",
        "\n",
        "report_bicycle = classification_report(y_true, y_pred)\n",
        "print(report_bicycle)"
      ]
    },
    {
      "cell_type": "code",
      "execution_count": null,
      "metadata": {
        "id": "aixuYsTL9yJE"
      },
      "outputs": [],
      "source": [
        "df_bicycle = pd.read_csv('/content/drive/MyDrive/Kaggle/Output/df_bicycle.csv', encoding='cp1252')\n",
        "df_bridge = pd.read_csv('/content/drive/MyDrive/Kaggle/Output/df_bridge.csv', encoding='cp1252')\n",
        "df_bus = pd.read_csv('/content/drive/MyDrive/Kaggle/Output/df_bus.csv', encoding='cp1252')\n",
        "df_car = pd.read_csv('/content/drive/MyDrive/Kaggle/Output/df_car.csv', encoding='cp1252')\n",
        "df_chimney = pd.read_csv('/content/drive/MyDrive/Kaggle/Output/df_chimney.csv', encoding='cp1252')\n",
        "df_crosswalk = pd.read_csv('/content/drive/MyDrive/Kaggle/Output/df_crosswalk.csv', encoding='cp1252')\n",
        "df_hydrant = pd.read_csv('/content/drive/MyDrive/Kaggle/Output/df_hydrant.csv', encoding='cp1252')\n",
        "df_motorcycle = pd.read_csv('/content/drive/MyDrive/Kaggle/Output/df_motorcycle.csv', encoding='cp1252')\n",
        "df_palm = pd.read_csv('/content/drive/MyDrive/Kaggle/Output/df_palm.csv', encoding='cp1252')\n",
        "df_stair = pd.read_csv('/content/drive/MyDrive/Kaggle/Output/df_stair.csv', encoding='cp1252')\n",
        "df_traffic_light = pd.read_csv('/content/drive/MyDrive/Kaggle/Output/df_traffic_light.csv', encoding='cp1252')"
      ]
    },
    {
      "cell_type": "code",
      "execution_count": null,
      "metadata": {
        "id": "EGxSVJ-d_JGk"
      },
      "outputs": [],
      "source": [
        "from sklearn.metrics import classification_report\n",
        "def change_df(df):\n",
        "  df = df.rename(columns={'0': 'Predicted', '0.1': 'Actual'})\n",
        "  y_pred = df['Predicted']\n",
        "  y_true = df['Actual']\n",
        "  return classification_report(y_true, y_pred)"
      ]
    },
    {
      "cell_type": "code",
      "execution_count": null,
      "metadata": {
        "id": "mArR3KlF--Pd"
      },
      "outputs": [],
      "source": [
        "report_bicycle = change_df(df_bicycle)\n",
        "report_bridge = change_df(df_bridge)\n",
        "report_bus = change_df(df_bus)\n",
        "report_car = change_df(df_car)\n",
        "report_chimney = change_df(df_chimney)\n",
        "report_crosswalk = change_df(df_crosswalk)\n",
        "report_hydrant = change_df(df_hydrant)\n",
        "report_motorcycle = change_df(df_motorcycle)\n",
        "report_palm = change_df(df_palm)\n",
        "report_stair = change_df(df_stair)\n",
        "report_traffic_light = change_df(df_traffic_light)"
      ]
    },
    {
      "cell_type": "markdown",
      "metadata": {
        "id": "TnYQbd3AJ1cO"
      },
      "source": [
        "각 클래스당 성능"
      ]
    },
    {
      "cell_type": "code",
      "execution_count": null,
      "metadata": {
        "colab": {
          "base_uri": "https://localhost:8080/"
        },
        "id": "2z5UKZj4JGue",
        "outputId": "06ba7acd-3fae-4e73-ae1f-c1a96fd944e7"
      },
      "outputs": [
        {
          "name": "stdout",
          "output_type": "stream",
          "text": [
            "bicycle\n",
            "              precision    recall  f1-score   support\n",
            "\n",
            "           0       0.96      0.93      0.95       739\n",
            "           1       0.73      0.84      0.78       160\n",
            "\n",
            "    accuracy                           0.92       899\n",
            "   macro avg       0.85      0.89      0.86       899\n",
            "weighted avg       0.92      0.92      0.92       899\n",
            "\n",
            "************************************************************\n",
            "bridge\n",
            "              precision    recall  f1-score   support\n",
            "\n",
            "           0       0.78      0.94      0.86       567\n",
            "           1       0.85      0.55      0.67       332\n",
            "\n",
            "    accuracy                           0.80       899\n",
            "   macro avg       0.82      0.75      0.76       899\n",
            "weighted avg       0.81      0.80      0.79       899\n",
            "\n",
            "************************************************************\n",
            "bus\n",
            "              precision    recall  f1-score   support\n",
            "\n",
            "           0       0.78      0.98      0.87       618\n",
            "           1       0.92      0.39      0.54       281\n",
            "\n",
            "    accuracy                           0.80       899\n",
            "   macro avg       0.85      0.69      0.71       899\n",
            "weighted avg       0.82      0.80      0.77       899\n",
            "\n",
            "************************************************************\n",
            "car\n",
            "              precision    recall  f1-score   support\n",
            "\n",
            "           0       0.95      0.91      0.93       674\n",
            "           1       0.76      0.86      0.81       225\n",
            "\n",
            "    accuracy                           0.90       899\n",
            "   macro avg       0.86      0.88      0.87       899\n",
            "weighted avg       0.90      0.90      0.90       899\n",
            "\n",
            "************************************************************\n",
            "chimney\n",
            "              precision    recall  f1-score   support\n",
            "\n",
            "           0       0.93      0.98      0.95       541\n",
            "           1       0.84      0.63      0.72       106\n",
            "\n",
            "    accuracy                           0.92       647\n",
            "   macro avg       0.88      0.80      0.84       647\n",
            "weighted avg       0.92      0.92      0.91       647\n",
            "\n",
            "************************************************************\n",
            "crosswalk\n",
            "              precision    recall  f1-score   support\n",
            "\n",
            "           0       0.78      0.98      0.87       576\n",
            "           1       0.94      0.52      0.67       324\n",
            "\n",
            "    accuracy                           0.81       900\n",
            "   macro avg       0.86      0.75      0.77       900\n",
            "weighted avg       0.84      0.81      0.80       900\n",
            "\n",
            "************************************************************\n",
            "hydrant\n",
            "              precision    recall  f1-score   support\n",
            "\n",
            "           0       0.91      0.96      0.94       571\n",
            "           1       0.93      0.83      0.88       328\n",
            "\n",
            "    accuracy                           0.92       899\n",
            "   macro avg       0.92      0.90      0.91       899\n",
            "weighted avg       0.92      0.92      0.92       899\n",
            "\n",
            "************************************************************\n",
            "motorcycle\n",
            "              precision    recall  f1-score   support\n",
            "\n",
            "           0       0.88      0.98      0.92       585\n",
            "           1       0.83      0.44      0.58       143\n",
            "\n",
            "    accuracy                           0.87       728\n",
            "   macro avg       0.85      0.71      0.75       728\n",
            "weighted avg       0.87      0.87      0.86       728\n",
            "\n",
            "************************************************************\n",
            "palm\n",
            "              precision    recall  f1-score   support\n",
            "\n",
            "           0       0.89      0.93      0.91       607\n",
            "           1       0.85      0.77      0.81       293\n",
            "\n",
            "    accuracy                           0.88       900\n",
            "   macro avg       0.87      0.85      0.86       900\n",
            "weighted avg       0.88      0.88      0.88       900\n",
            "\n",
            "************************************************************\n",
            "stair\n",
            "              precision    recall  f1-score   support\n",
            "\n",
            "           0       0.77      1.00      0.87       660\n",
            "           1       0.98      0.17      0.29       239\n",
            "\n",
            "    accuracy                           0.78       899\n",
            "   macro avg       0.87      0.58      0.58       899\n",
            "weighted avg       0.82      0.78      0.71       899\n",
            "\n",
            "************************************************************\n",
            "traffic_light\n",
            "              precision    recall  f1-score   support\n",
            "\n",
            "           0       0.93      0.97      0.95       698\n",
            "           1       0.87      0.76      0.81       201\n",
            "\n",
            "    accuracy                           0.92       899\n",
            "   macro avg       0.90      0.86      0.88       899\n",
            "weighted avg       0.92      0.92      0.92       899\n",
            "\n",
            "************************************************************\n"
          ]
        }
      ],
      "source": [
        "# Calculate overall performance\n",
        "reports = [report_bicycle, report_bridge, report_bus, report_car, report_chimney, report_crosswalk, report_hydrant, report_motorcycle, report_palm, report_stair, report_traffic_light]\n",
        "class_names = ['bicycle', 'bridge', 'bus', 'car', 'chimney', 'crosswalk', 'hydrant', 'motorcycle', 'palm','stair', 'traffic_light']\n",
        "overall_report = {'precision': 0, 'recall': 0, 'f1-score': 0, 'support': 0}\n",
        "\n",
        "for report, class_name in zip(reports, class_names):\n",
        "  print(class_name)\n",
        "  print(report)\n",
        "  print('*'*60)"
      ]
    },
    {
      "cell_type": "markdown",
      "metadata": {
        "id": "eZJTWrV0KLsX"
      },
      "source": [
        "전체 클래스 성능 - 각 클래스에 대한 classification_report\n",
        "총합 평균\n",
        "\n",
        "\n",
        "| Class          | Accuracy | F1-score about about class | F1-score except class | count |\n",
        "|----------------|----------|------------------|------------------|--|\n",
        "| Bicycle        |   0.92   |      0.95        |      0.78        |899|\n",
        "| Bridge         |   0.80   |      0.86        |      0.67        |899|\n",
        "| Bus            |   0.80   |      0.87        |      0.54        |899|\n",
        "| Car            |   0.90   |      0.93        |      0.81        |899|\n",
        "| Chimney        |   0.92   |      0.95        |      0.72        |647|\n",
        "| Crosswalk      |   0.81   |      0.87        |      0.67        |900|\n",
        "| Hydrant        |   0.92   |      0.94        |      0.88        |899|\n",
        "| Motorcycle     |   0.87   |      0.92        |      0.58        |728|\n",
        "| Palm           |   0.88   |      0.91        |      0.81        |900|\n",
        "| Stair          |   0.78   |      0.87        |      0.29        |899|\n",
        "| Traffic Light  |   0.92   |      0.95        |      0.81        |899|\n",
        "| Total          |   0.87   |      0.91        |      0.68        |9468|\n"
      ]
    }
  ],
  "metadata": {
    "colab": {
      "provenance": []
    },
    "kernelspec": {
      "display_name": "Python 3",
      "name": "python3"
    },
    "language_info": {
      "name": "python"
    }
  },
  "nbformat": 4,
  "nbformat_minor": 0
}
