{
  "cells": [
    {
      "cell_type": "markdown",
      "metadata": {
        "id": "g5cLcC2rIUe7"
      },
      "source": [
        "# YOLO test"
      ]
    },
    {
      "cell_type": "code",
      "execution_count": 47,
      "metadata": {
        "colab": {
          "base_uri": "https://localhost:8080/",
          "height": 35
        },
        "id": "ZqVnizkxD551",
        "outputId": "55b7f5c4-c3be-4c95-9f0f-86319fe2bf85"
      },
      "outputs": [
        {
          "data": {
            "text/plain": [
              "'c:\\\\Users\\\\USER\\\\bomishot\\\\Solving_ReCAPTCHA_v2_Challenge_with_ViT\\\\Python Code'"
            ]
          },
          "execution_count": 47,
          "metadata": {},
          "output_type": "execute_result"
        }
      ],
      "source": [
        "%pwd"
      ]
    },
    {
      "cell_type": "code",
      "execution_count": 48,
      "metadata": {
        "id": "L6l02LtuIVwd"
      },
      "outputs": [
        {
          "name": "stdout",
          "output_type": "stream",
          "text": [
            "Requirement already satisfied: torch in c:\\users\\user\\anaconda3\\envs\\pytorch_basic\\lib\\site-packages (2.0.1)\n",
            "Requirement already satisfied: torchvision in c:\\users\\user\\anaconda3\\envs\\pytorch_basic\\lib\\site-packages (0.15.2)\n",
            "Requirement already satisfied: filelock in c:\\users\\user\\appdata\\roaming\\python\\python39\\site-packages (from torch) (3.12.0)\n",
            "Requirement already satisfied: typing-extensions in c:\\users\\user\\anaconda3\\envs\\pytorch_basic\\lib\\site-packages (from torch) (4.7.1)\n",
            "Requirement already satisfied: sympy in c:\\users\\user\\anaconda3\\envs\\pytorch_basic\\lib\\site-packages (from torch) (1.12)\n",
            "Requirement already satisfied: networkx in c:\\users\\user\\anaconda3\\envs\\pytorch_basic\\lib\\site-packages (from torch) (3.1)\n",
            "Requirement already satisfied: jinja2 in c:\\users\\user\\anaconda3\\envs\\pytorch_basic\\lib\\site-packages (from torch) (3.1.2)\n",
            "Requirement already satisfied: numpy in c:\\users\\user\\anaconda3\\envs\\pytorch_basic\\lib\\site-packages (from torchvision) (1.25.2)\n",
            "Requirement already satisfied: requests in c:\\users\\user\\anaconda3\\envs\\pytorch_basic\\lib\\site-packages (from torchvision) (2.31.0)\n",
            "Requirement already satisfied: pillow!=8.3.*,>=5.3.0 in c:\\users\\user\\anaconda3\\envs\\pytorch_basic\\lib\\site-packages (from torchvision) (10.0.0)\n",
            "Requirement already satisfied: MarkupSafe>=2.0 in c:\\users\\user\\anaconda3\\envs\\pytorch_basic\\lib\\site-packages (from jinja2->torch) (2.1.3)\n",
            "Requirement already satisfied: charset-normalizer<4,>=2 in c:\\users\\user\\anaconda3\\envs\\pytorch_basic\\lib\\site-packages (from requests->torchvision) (3.2.0)\n",
            "Requirement already satisfied: idna<4,>=2.5 in c:\\users\\user\\anaconda3\\envs\\pytorch_basic\\lib\\site-packages (from requests->torchvision) (3.4)\n",
            "Requirement already satisfied: urllib3<3,>=1.21.1 in c:\\users\\user\\anaconda3\\envs\\pytorch_basic\\lib\\site-packages (from requests->torchvision) (2.0.4)\n",
            "Requirement already satisfied: certifi>=2017.4.17 in c:\\users\\user\\anaconda3\\envs\\pytorch_basic\\lib\\site-packages (from requests->torchvision) (2023.7.22)\n",
            "Requirement already satisfied: mpmath>=0.19 in c:\\users\\user\\anaconda3\\envs\\pytorch_basic\\lib\\site-packages (from sympy->torch) (1.3.0)\n"
          ]
        },
        {
          "name": "stderr",
          "output_type": "stream",
          "text": [
            "Cloning into 'yolov5'...\n"
          ]
        },
        {
          "name": "stdout",
          "output_type": "stream",
          "text": [
            "^C\n"
          ]
        }
      ],
      "source": [
        "!pip install torch torchvision\n",
        "!git clone https://github.com/ultralytics/yolov5\n",
        "!pip install -U -r yolov5/requirements.txt"
      ]
    },
    {
      "cell_type": "code",
      "execution_count": null,
      "metadata": {
        "id": "J8_lOsWrIYvQ"
      },
      "outputs": [],
      "source": [
        "%cd /content/yolov5\n",
        "!pip install -r requirements.txt"
      ]
    },
    {
      "cell_type": "code",
      "execution_count": null,
      "metadata": {
        "colab": {
          "base_uri": "https://localhost:8080/"
        },
        "id": "ZbnvjSoFRe8Z",
        "outputId": "4a2b9cc8-6e08-42a6-ff8d-637ed25b1d01"
      },
      "outputs": [
        {
          "name": "stdout",
          "output_type": "stream",
          "text": [
            "/bin/bash: line 1: cd: yolov5: No such file or directory\n",
            "\u001b[34m\u001b[1mdetect: \u001b[0mweights=['yolov5l.pt'], source=/content/drive/MyDrive/Kaggle/Input/Recaptcha_Dataset/images/Bicycle/Bicycle (2).png, data=data/coco128.yaml, imgsz=[640, 640], conf_thres=0.25, iou_thres=0.45, max_det=1000, device=, view_img=False, save_txt=False, save_csv=False, save_conf=False, save_crop=False, nosave=False, classes=None, agnostic_nms=False, augment=False, visualize=False, update=False, project=runs/detect, name=exp, exist_ok=False, line_thickness=1, hide_labels=False, hide_conf=False, half=False, dnn=False, vid_stride=1\n",
            "YOLOv5 🚀 v7.0-218-g9e97ac3 Python-3.10.12 torch-2.0.1+cu118 CUDA:0 (Tesla T4, 15102MiB)\n",
            "\n",
            "Fusing layers... \n",
            "YOLOv5l summary: 367 layers, 46533693 parameters, 0 gradients\n",
            "Detected: bicycle with confidence 0.46 at [tensor(35., device='cuda:0'), tensor(39., device='cuda:0'), tensor(59., device='cuda:0'), tensor(69., device='cuda:0')]\n",
            "Detected: person with confidence 0.83 at [tensor(82., device='cuda:0'), tensor(25., device='cuda:0'), tensor(99., device='cuda:0'), tensor(78., device='cuda:0')]\n",
            "Detected: person with confidence 0.85 at [tensor(56., device='cuda:0'), tensor(15., device='cuda:0'), tensor(75., device='cuda:0'), tensor(72., device='cuda:0')]\n",
            "image 1/1 /content/drive/MyDrive/Kaggle/Input/Recaptcha_Dataset/images/Bicycle/Bicycle (2).png: 640x640 2 persons, 1 bicycle, 50.3ms\n",
            "Speed: 0.9ms pre-process, 50.3ms inference, 1.6ms NMS per image at shape (1, 3, 640, 640)\n",
            "Results saved to \u001b[1mruns/detect/exp12\u001b[0m\n"
          ]
        }
      ],
      "source": [
        "!cd yolov5; python detect.py --weights yolov5l.pt --source \"/content/drive/MyDrive/Kaggle/Input/Recaptcha_Dataset/images/Bicycle/Bicycle (2).png\"\n"
      ]
    },
    {
      "cell_type": "code",
      "execution_count": null,
      "metadata": {
        "colab": {
          "base_uri": "https://localhost:8080/",
          "height": 645
        },
        "id": "4FFDZhl9SZJB",
        "outputId": "4dcd70ad-0fbd-4fab-84b0-6d9f5fdecbb3"
      },
      "outputs": [
        {
          "data": {
            "image/png": "[encoded data removed]",
            "text/plain": [
              "<Figure size 1000x1000 with 1 Axes>"
            ]
          },
          "metadata": {},
          "output_type": "display_data"
        }
      ],
      "source": [
        "import matplotlib.pyplot as plt\n",
        "import matplotlib.image as mpimg\n",
        "\n",
        "# 결과 이미지 경로 설정\n",
        "result_img_path = '/content/yolov5/runs/detect/exp12/Bicycle (2).png'  # 경로는 실행마다 달라질 수 있으므로, 적절히 수정이 필요합니다.\n",
        "\n",
        "# 이미지 로드\n",
        "img = mpimg.imread(result_img_path)\n",
        "\n",
        "# 이미지 표시\n",
        "plt.figure(figsize=(10,10))\n",
        "plt.imshow(img)\n",
        "plt.axis('off')  # 축 정보 제거\n",
        "plt.show()\n"
      ]
    },
    {
      "cell_type": "code",
      "execution_count": null,
      "metadata": {
        "colab": {
          "base_uri": "https://localhost:8080/"
        },
        "id": "b3ljPSRVSwwG",
        "outputId": "9cd214c6-693d-4aa8-900e-05aff5b3da6b"
      },
      "outputs": [
        {
          "name": "stdout",
          "output_type": "stream",
          "text": [
            "Label: fire hydrant, Confidence: 0.39, Bounding Box: [46.0, 32.0, 56.0, 55.0]\n",
            "Label: car, Confidence: 0.70, Bounding Box: [0.0, 20.0, 16.0, 35.0]\n"
          ]
        }
      ],
      "source": [
        "import json\n",
        "\n",
        "# JSON 파일 읽기\n",
        "with open('/content/yolov5/detected_results.json', 'r') as f:\n",
        "    data = json.load(f)\n",
        "\n",
        "# 파일 이름을 기준으로 검출된 객체에 접근하기\n",
        "file_name = \"Bicycle (1)\"\n",
        "objects_in_file = data[file_name]\n",
        "\n",
        "for obj in objects_in_file:\n",
        "    label = obj['label']\n",
        "    confidence = obj['confidence']\n",
        "    bounding_box = obj['bounding_box']\n",
        "\n",
        "    print(f\"Label: {label}, Confidence: {confidence}, Bounding Box: {bounding_box}\")\n"
      ]
    },
    {
      "cell_type": "markdown",
      "metadata": {
        "id": "hgDzr4RFc_Go"
      },
      "source": [
        "bicycle 이미지 데이터셋에 대해, bicycle 클래스로 예측을 yolo가 하고 있는지 실행해보자."
      ]
    },
    {
      "cell_type": "code",
      "execution_count": null,
      "metadata": {
        "id": "-EGqUXkTohUp"
      },
      "outputs": [],
      "source": [
        "import json\n",
        "\n",
        "def process_detection_for_class(class_name):\n",
        "    # JSON 파일 로드\n",
        "    with open(\"detected_results.json\", \"r\") as file:\n",
        "        results = json.load(file)\n",
        "\n",
        "    count_detected_images = 0  # 특정 라벨을 감지한 이미지의 개수\n",
        "    total_images = len(results)\n",
        "\n",
        "    # 모든 검출의 confidence 점수들을 저장하기 위한 리스트\n",
        "    all_confidence_scores = []\n",
        "\n",
        "    # 결과 분석\n",
        "    for image_name, detections in results.items():\n",
        "        specific_detections = [det for det in detections if det['label'] == class_name]\n",
        "\n",
        "        # 해당 이미지에서 특정 탐지가 있었다면\n",
        "        if specific_detections:\n",
        "            count_detected_images += 1\n",
        "            for detection in specific_detections:\n",
        "                all_confidence_scores.append(float(detection['confidence']))\n",
        "\n",
        "    # 전체 검출의 confidence 점수 평균 계산\n",
        "    average_confidence = sum(all_confidence_scores) / len(all_confidence_scores) if all_confidence_scores else 0\n",
        "\n",
        "    return {\n",
        "        \"class_name\": class_name,\n",
        "        \"total_images\": total_images,\n",
        "        \"count_detected_images\": count_detected_images,\n",
        "        \"detection_success_rate\": count_detected_images / total_images * 100,\n",
        "        \"average_confidence\": average_confidence\n",
        "    }\n",
        "\n"
      ]
    },
    {
      "cell_type": "markdown",
      "metadata": {
        "id": "z0WL2dxtlUrk"
      },
      "source": [
        "coco.yaml과 내 데이터셋의 class가 겹치는 것이 6개이므로, 그것에 대해서만 검출해보자.\n",
        "* Bicycle, Bus, Car, Motorcycle, Traffic Light, Hydrant"
      ]
    },
    {
      "cell_type": "markdown",
      "metadata": {
        "id": "GPY_5RyglS7I"
      },
      "source": [
        "### Bicycle"
      ]
    },
    {
      "cell_type": "code",
      "execution_count": null,
      "metadata": {
        "id": "NYA7BfXobgHR"
      },
      "outputs": [],
      "source": [
        "!python detect.py --weights yolov5l.pt --source '/content/drive/MyDrive/Kaggle/Input/Recaptcha_Dataset/images/Bicycle' --conf 0.3 --img-size 640"
      ]
    },
    {
      "cell_type": "markdown",
      "metadata": {
        "id": "w6QAdB16h36b"
      },
      "source": [
        "* yolo weight - small 결과 : 151개 감지\n",
        "* yolo weight - large 결과  : 477개 감지\n",
        "> large weight 사용하는 방향으로."
      ]
    },
    {
      "cell_type": "code",
      "execution_count": null,
      "metadata": {
        "id": "yY3k_cOOpu5U"
      },
      "outputs": [],
      "source": [
        "bicycle_result = process_detection_for_class('bicycle')"
      ]
    },
    {
      "cell_type": "markdown",
      "metadata": {
        "id": "NkKLGp0-iJI9"
      },
      "source": [
        "> yolo weight - large test\n",
        "* Bicycle\n",
        "  * 780 image 중, 477개 검출"
      ]
    },
    {
      "cell_type": "markdown",
      "metadata": {
        "id": "urFUOi9FkCvn"
      },
      "source": [
        "### Bus"
      ]
    },
    {
      "cell_type": "code",
      "execution_count": null,
      "metadata": {
        "id": "q_5Gm6qOiDCF"
      },
      "outputs": [],
      "source": [
        "!python detect.py --weights yolov5l.pt --source '/content/drive/MyDrive/Kaggle/Input/Recaptcha_Dataset/images/Bus' --conf 0.3 --img-size 640\n"
      ]
    },
    {
      "cell_type": "code",
      "execution_count": null,
      "metadata": {
        "id": "bOqHCalCk6jr"
      },
      "outputs": [],
      "source": [
        "bus_result = process_detection_for_class('bus')"
      ]
    },
    {
      "cell_type": "markdown",
      "metadata": {
        "id": "loWD6xeglEjK"
      },
      "source": [
        "### car"
      ]
    },
    {
      "cell_type": "code",
      "execution_count": null,
      "metadata": {
        "id": "tfZy973YlCDt"
      },
      "outputs": [],
      "source": [
        "!python detect.py --weights yolov5l.pt --source '/content/drive/MyDrive/Kaggle/Input/Recaptcha_Dataset/images/Car' --conf 0.3 --img-size 640"
      ]
    },
    {
      "cell_type": "code",
      "execution_count": null,
      "metadata": {
        "id": "zu81XWkclB6j"
      },
      "outputs": [],
      "source": [
        "car_result = process_detection_for_class('car')"
      ]
    },
    {
      "cell_type": "markdown",
      "metadata": {
        "id": "YtNX8yiwlndI"
      },
      "source": [
        "### Motorcycle"
      ]
    },
    {
      "cell_type": "code",
      "execution_count": null,
      "metadata": {
        "id": "ciLJ9B_0lB2-"
      },
      "outputs": [],
      "source": [
        "!python detect.py --weights yolov5l.pt --source '/content/drive/MyDrive/Kaggle/Input/Recaptcha_Dataset/images/Motorcycle' --conf 0.3 --img-size 640"
      ]
    },
    {
      "cell_type": "code",
      "execution_count": null,
      "metadata": {
        "id": "qbGIy_TvlBtG"
      },
      "outputs": [],
      "source": [
        "motorcycle_result = process_detection_for_class('motorcycle')"
      ]
    },
    {
      "cell_type": "markdown",
      "metadata": {
        "id": "8Aio7wMYlo0U"
      },
      "source": [
        "### Traffic Light"
      ]
    },
    {
      "cell_type": "code",
      "execution_count": null,
      "metadata": {
        "id": "TW0FThDklBpf"
      },
      "outputs": [],
      "source": [
        "!python detect.py --weights yolov5l.pt --source '/content/drive/MyDrive/Kaggle/Input/Recaptcha_Dataset/images/Traffic Light' --conf 0.3 --img-size 640"
      ]
    },
    {
      "cell_type": "code",
      "execution_count": null,
      "metadata": {
        "id": "UHX_ymwulqHt"
      },
      "outputs": [],
      "source": [
        "traffic_light_result = process_detection_for_class('traffic light')"
      ]
    },
    {
      "cell_type": "markdown",
      "metadata": {
        "id": "W39usaDulqh7"
      },
      "source": [
        "### Hydrant\n"
      ]
    },
    {
      "cell_type": "code",
      "execution_count": null,
      "metadata": {
        "id": "XX_0HHEIlrNS"
      },
      "outputs": [],
      "source": [
        "!python detect.py --weights yolov5l.pt --source '/content/drive/MyDrive/Kaggle/Input/Recaptcha_Dataset/images/Hydrant' --conf 0.3 --img-size 640"
      ]
    },
    {
      "cell_type": "code",
      "execution_count": null,
      "metadata": {
        "id": "jhr87eyAlr6o"
      },
      "outputs": [],
      "source": [
        "fire_hydrant_result = process_detection_for_class('fire hydrant')"
      ]
    },
    {
      "cell_type": "markdown",
      "metadata": {
        "id": "-7-Co31xuJym"
      },
      "source": [
        "### 전체 결과 확인"
      ]
    },
    {
      "cell_type": "code",
      "execution_count": null,
      "metadata": {
        "colab": {
          "base_uri": "https://localhost:8080/"
        },
        "id": "Ozlqy-ROuUJc",
        "outputId": "67769571-2382-4201-f35a-fd6167a34814"
      },
      "outputs": [
        {
          "name": "stdout",
          "output_type": "stream",
          "text": [
            "Class: bicycle\n",
            "Total images: 780\n",
            "Number of images with bicycle detections: 477\n",
            "Detection success rate: 61.15%\n",
            "Average confidence score for bicycle detections: 0.63\n",
            "\n",
            "-------------------------------------------------------\n",
            "Class: bus\n",
            "Total images: 1209\n",
            "Number of images with bus detections: 417\n",
            "Detection success rate: 34.49%\n",
            "Average confidence score for bus detections: 0.66\n",
            "\n",
            "-------------------------------------------------------\n",
            "Class: car\n",
            "Total images: 3496\n",
            "Number of images with car detections: 2259\n",
            "Detection success rate: 64.62%\n",
            "Average confidence score for car detections: 0.59\n",
            "\n",
            "-------------------------------------------------------\n",
            "Class: motorcycle\n",
            "Total images: 81\n",
            "Number of images with motorcycle detections: 38\n",
            "Detection success rate: 46.91%\n",
            "Average confidence score for motorcycle detections: 0.57\n",
            "\n",
            "-------------------------------------------------------\n",
            "Class: traffic light\n",
            "Total images: 791\n",
            "Number of images with traffic light detections: 465\n",
            "Detection success rate: 58.79%\n",
            "Average confidence score for traffic light detections: 0.64\n",
            "\n",
            "-------------------------------------------------------\n",
            "Class: fire hydrant\n",
            "Total images: 955\n",
            "Number of images with fire hydrant detections: 762\n",
            "Detection success rate: 79.79%\n",
            "Average confidence score for fire hydrant detections: 0.75\n",
            "\n",
            "-------------------------------------------------------\n"
          ]
        }
      ],
      "source": [
        "def print_class_results(result):\n",
        "    \"\"\"주어진 클래스의 결과를 출력합니다.\"\"\"\n",
        "    print(f\"Class: {result['class_name']}\")\n",
        "    print(f\"Total images: {result['total_images']}\")\n",
        "    print(f\"Number of images with {result['class_name']} detections: {result['count_detected_images']}\")\n",
        "    print(f\"Detection success rate: {result['detection_success_rate']:.2f}%\")\n",
        "    print(f\"Average confidence score for {result['class_name']} detections: {result['average_confidence']:.2f}\\n\")\n",
        "    print('-------------------------------------------------------')\n",
        "# 모든 결과를 리스트에 저장\n",
        "all_results = [bicycle_result, bus_result, car_result, motorcycle_result, traffic_light_result, fire_hydrant_result]\n",
        "\n",
        "# 각 클래스의 결과 출력\n",
        "for result in all_results:\n",
        "    print_class_results(result)\n"
      ]
    },
    {
      "cell_type": "code",
      "execution_count": null,
      "metadata": {
        "colab": {
          "base_uri": "https://localhost:8080/"
        },
        "id": "vHeTQJABtnmf",
        "outputId": "36a9f56e-e126-4911-be6e-8911d62d3039"
      },
      "outputs": [
        {
          "name": "stdout",
          "output_type": "stream",
          "text": [
            "Total average detection success rate: 94.40%\n",
            "Total average confidence score: 0.64\n"
          ]
        }
      ],
      "source": [
        "# 전체 평균 계산\n",
        "total_detected = sum(result['count_detected_images'] for result in all_results)\n",
        "total_images = all_results[0]['total_images']  # 모든 결과에서 이미지의 총 개수는 동일하므로 첫 번째 결과에서 가져옴\n",
        "average_success_rate = total_detected / (total_images * len(all_results)) * 100\n",
        "average_confidence = sum(result['average_confidence'] for result in all_results) / len(all_results)\n",
        "\n",
        "# 전체 평균 출력\n",
        "print(f\"Total average detection success rate: {average_success_rate:.2f}%\")\n",
        "print(f\"Total average confidence score: {average_confidence:.2f}\")"
      ]
    },
    {
      "cell_type": "markdown",
      "metadata": {
        "id": "kTQAtHe-u4jV"
      },
      "source": [
        "* big image - yolo test 결과\n",
        "\n",
        "\n",
        "| Class          | Total Images | Detected Images | Detection Success Rate | Average Confidence Score |\n",
        "|----------------|--------------|-----------------|------------------------|--------------------------|\n",
        "| bicycle        | 780          | 477             | 61.15%                 | 0.63                     |\n",
        "| bus            | 1209         | 417             | 34.49%                 | 0.66                     |\n",
        "| car            | 3496         | 2259            | 64.62%                 | 0.59                     |\n",
        "| motorcycle     | 81           | 38              | 46.91%                 | 0.57                     |\n",
        "| traffic light  | 791          | 465             | 58.79%                 | 0.64                     |\n",
        "| fire hydrant   | 955          | 762             | 79.79%                 | 0.64                     |\n",
        "\n",
        "* **Total average detection success rate :** 57%  \n",
        "* **Total average confidence score :** 62%\n",
        "\n"
      ]
    },
    {
      "cell_type": "markdown",
      "metadata": {
        "id": "yArwoWQBpE0e"
      },
      "source": [
        "## small image 에 대해서도 해보자."
      ]
    },
    {
      "cell_type": "code",
      "execution_count": null,
      "metadata": {
        "id": "hxFcaHiwpR0L"
      },
      "outputs": [],
      "source": [
        "!python detect.py --weights yolov5l.pt --source '/content/drive/MyDrive/Kaggle/Input/Recaptcha_Dataset/small_images/Bicycle' --conf 0.3 --img-size 640"
      ]
    },
    {
      "cell_type": "code",
      "execution_count": null,
      "metadata": {
        "id": "zpVEkEmTvF1M"
      },
      "outputs": [],
      "source": [
        "bicycle_result = process_detection_for_class('bicycle')"
      ]
    },
    {
      "cell_type": "code",
      "execution_count": null,
      "metadata": {
        "colab": {
          "base_uri": "https://localhost:8080/"
        },
        "id": "zMaxdwXfvwd0",
        "outputId": "e263d7dd-51ee-4934-9881-b7626546da22"
      },
      "outputs": [
        {
          "data": {
            "text/plain": [
              "{'class_name': 'bicycle',\n",
              " 'total_images': 73,\n",
              " 'count_detected_images': 0,\n",
              " 'detection_success_rate': 0.0,\n",
              " 'average_confidence': 0}"
            ]
          },
          "execution_count": 83,
          "metadata": {},
          "output_type": "execute_result"
        }
      ],
      "source": [
        "bicycle_result"
      ]
    },
    {
      "cell_type": "markdown",
      "metadata": {
        "id": "XO0N1tEkuvgC"
      },
      "source": [
        "> 세부 영역(small image)에 대해서는 yolo로 탐지 아예 안됨."
      ]
    }
  ],
  "metadata": {
    "colab": {
      "provenance": []
    },
    "kernelspec": {
      "display_name": "pytorch_basic",
      "language": "python",
      "name": "pytorch_basic"
    },
    "language_info": {
      "codemirror_mode": {
        "name": "ipython",
        "version": 3
      },
      "file_extension": ".py",
      "mimetype": "text/x-python",
      "name": "python",
      "nbconvert_exporter": "python",
      "pygments_lexer": "ipython3",
      "version": "3.9.17"
    }
  },
  "nbformat": 4,
  "nbformat_minor": 0
}
