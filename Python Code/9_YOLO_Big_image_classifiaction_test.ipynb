{
  "cells": [
    {
      "cell_type": "markdown",
      "metadata": {
        "id": "2eoKIEVDrn4b"
      },
      "source": [
        "# YOLO Test - All classes 성능"
      ]
    },
    {
      "cell_type": "code",
      "execution_count": null,
      "metadata": {
        "colab": {
          "base_uri": "https://localhost:8080/"
        },
        "id": "GY2gZY8OsGdV",
        "outputId": "2751eae5-5f6c-4bf9-90bf-255b260414bb"
      },
      "outputs": [
        {
          "name": "stderr",
          "output_type": "stream",
          "text": [
            "Using cache found in /root/.cache/torch/hub/ultralytics_yolov5_master\n",
            "YOLOv5 🚀 2023-10-1 Python-3.10.12 torch-2.0.1+cu118 CUDA:0 (Tesla T4, 15102MiB)\n",
            "\n",
            "Fusing layers... \n",
            "YOLOv5l summary: 367 layers, 46533693 parameters, 0 gradients\n",
            "Adding AutoShape... \n"
          ]
        }
      ],
      "source": [
        "import torch\n",
        "yolo_model = torch.hub.load('ultralytics/yolov5', 'yolov5l')"
      ]
    },
    {
      "cell_type": "markdown",
      "metadata": {
        "id": "V0o5z65wXdD7"
      },
      "source": [
        "* 6 classes generator 생성"
      ]
    },
    {
      "cell_type": "code",
      "execution_count": null,
      "metadata": {
        "id": "vCeHRlwxxyFj"
      },
      "outputs": [],
      "source": [
        "def create_image_generator(target_class_name, target_count=200, other_count=400, batch_size=32, img_size=640):\n",
        "    # 클래스 라벨링\n",
        "    class_labels = {\n",
        "        'Bicycle': 1,\n",
        "        'Car': 2,\n",
        "        'Motorcycle': 3,\n",
        "        'Bus': 5,\n",
        "        'Traffic Light': 9,\n",
        "        'Hydrant': 10,\n",
        "    }\n",
        "\n",
        "    base_dir = '/content/drive/MyDrive/Kaggle/Input/Recaptcha_Dataset/images/'\n",
        "\n",
        "    # 특정 클래스의 이미지 경로들\n",
        "    target_class_dir = os.path.join(base_dir, target_class_name)\n",
        "    target_image_paths = [(os.path.join(target_class_dir, fname), class_labels[target_class_name]) for fname in os.listdir(target_class_dir) if fname.endswith('.png')]\n",
        "    random.shuffle(target_image_paths)\n",
        "    target_image_paths = target_image_paths[:target_count]\n",
        "\n",
        "    # 특정 클래스가 아닌 이미지 경로들\n",
        "    other_image_paths = []\n",
        "    for class_name, label in class_labels.items():\n",
        "        if class_name != target_class_name:\n",
        "            dir = os.path.join(base_dir, class_name)\n",
        "            other_image_paths.extend([(os.path.join(dir, fname), label) for fname in os.listdir(dir) if fname.endswith('.png')])\n",
        "    random.shuffle(other_image_paths)\n",
        "    other_image_paths = other_image_paths[:other_count]\n",
        "\n",
        "    # 두 목록 합치기\n",
        "    all_image_paths = target_image_paths + other_image_paths\n",
        "    random.shuffle(all_image_paths)\n",
        "\n",
        "    # 이미지와 라벨을 배치로 로딩하고 반환하는 generator\n",
        "    for i in range(0, len(all_image_paths), batch_size):\n",
        "        batch_paths = all_image_paths[i: i + batch_size]\n",
        "        batch_images = [cv2.imread(path[0]) for path in batch_paths]\n",
        "        batch_labels = [path[1] for path in batch_paths]\n",
        "        batch_images = [cv2.resize(img, (img_size, img_size)) for img in batch_images if img is not None]\n",
        "        yield batch_images, batch_labels\n",
        "\n",
        "class_labels = {\n",
        "    'Bicycle': 1,\n",
        "    'Car': 2,\n",
        "    'Motorcycle': 3,\n",
        "    'Bus': 5,\n",
        "    'Traffic Light': 9,\n",
        "    'Hydrant': 10,\n",
        "}"
      ]
    },
    {
      "cell_type": "markdown",
      "metadata": {
        "id": "XQ26tCxrZsz5"
      },
      "source": [
        "* 6 classes classification report"
      ]
    },
    {
      "cell_type": "code",
      "execution_count": null,
      "metadata": {
        "id": "1CbcMhz6YWFm"
      },
      "outputs": [],
      "source": [
        "from sklearn.metrics import classification_report\n",
        "from collections import Counter\n",
        "\n",
        "def binary_classification_report_for_class(target_class, generator, yolo_model):\n",
        "    true_counts = Counter()\n",
        "    predicted_counts = Counter()\n",
        "\n",
        "    # 실제 라벨과 예측 라벨을 담을 리스트\n",
        "    true_label_list = []\n",
        "    predicted_label_list = []\n",
        "\n",
        "    # 모든 이미지에 대해\n",
        "    for batch_images, true_labels in generator:\n",
        "        # 이미지를 텐서로 변환\n",
        "        batch_tensor = torch.tensor(batch_images).permute(0, 3, 1, 2).float() / 255.0\n",
        "\n",
        "        # GPU 사용\n",
        "        if torch.cuda.is_available():\n",
        "            batch_tensor = batch_tensor.cuda()\n",
        "\n",
        "        with torch.no_grad():\n",
        "            predictions = yolo_model(batch_tensor)\n",
        "\n",
        "        conf_threshold = 0.3\n",
        "        mask = predictions[..., 4] > conf_threshold\n",
        "\n",
        "        for i, img_predictions in enumerate(predictions):\n",
        "            img_predictions = img_predictions[mask[i]]\n",
        "            _, predicted_classes = img_predictions[:, 5:].max(1)\n",
        "\n",
        "            # 예측된 bbox가 있다면 가장 확률이 높은 클래스 선택\n",
        "            if img_predictions.size(0) != 0:\n",
        "                max_conf, max_class_idx = img_predictions[:, 5:].max(1)\n",
        "                predicted_class = max_class_idx[max_conf.argmax()].item()\n",
        "                predicted_counts[predicted_class] += 1\n",
        "\n",
        "                # 이진 분류를 위한 예측 라벨 처리\n",
        "                predicted_bin_label = 1 if predicted_class == target_class else 0\n",
        "                predicted_label_list.append(predicted_bin_label)\n",
        "            else:\n",
        "                # 예측되지 않은 경우 (예측 라벨이 없는 경우) 0으로 처리\n",
        "                predicted_label_list.append(0)\n",
        "\n",
        "            # 실제 라벨 카운트\n",
        "            true_counts[true_labels[i]] += 1\n",
        "\n",
        "            # 이진 분류를 위한 실제 라벨 처리\n",
        "            true_bin_label = 1 if true_labels[i] == target_class else 0\n",
        "            true_label_list.append(true_bin_label)\n",
        "\n",
        "    # 이진 분류 성능 보고서 반환\n",
        "    labels = [0, 1]\n",
        "    target_names = [f'Not Class {target_class}', f'Class {target_class}']\n",
        "    report = classification_report(true_label_list, predicted_label_list, labels=labels, target_names=target_names)\n",
        "    return report\n",
        "\n",
        "# 클래스 라벨링\n",
        "class_labels = {\n",
        "    'Bicycle': 1,\n",
        "    'Car': 2,\n",
        "    'Motorcycle': 3,\n",
        "    'Bus': 5,\n",
        "    'Traffic Light': 9,\n",
        "    'Hydrant': 10,\n",
        "}"
      ]
    },
    {
      "cell_type": "code",
      "execution_count": null,
      "metadata": {
        "colab": {
          "base_uri": "https://localhost:8080/"
        },
        "id": "odySiYhfYV_f",
        "outputId": "4c4aed69-3e5f-49d1-9768-5209ed90c558"
      },
      "outputs": [
        {
          "name": "stdout",
          "output_type": "stream",
          "text": [
            "\n",
            "Counts for Bicycle:\n",
            "Label 1: 200 images\n",
            "Label 2: 207 images\n",
            "Label 3: 8 images\n",
            "Label 5: 76 images\n",
            "Label 9: 52 images\n",
            "Label 10: 57 images\n",
            "\n",
            "Counts for Car:\n",
            "Label 1: 84 images\n",
            "Label 2: 200 images\n",
            "Label 3: 12 images\n",
            "Label 5: 109 images\n",
            "Label 9: 96 images\n",
            "Label 10: 99 images\n",
            "\n",
            "Counts for Motorcycle:\n",
            "Label 1: 46 images\n",
            "Label 2: 180 images\n",
            "Label 3: 81 images\n",
            "Label 5: 71 images\n",
            "Label 9: 45 images\n",
            "Label 10: 58 images\n",
            "\n",
            "Counts for Bus:\n",
            "Label 1: 54 images\n",
            "Label 2: 219 images\n",
            "Label 3: 3 images\n",
            "Label 5: 200 images\n",
            "Label 9: 53 images\n",
            "Label 10: 71 images\n",
            "\n",
            "Counts for Traffic Light:\n",
            "Label 1: 39 images\n",
            "Label 2: 215 images\n",
            "Label 3: 8 images\n",
            "Label 5: 83 images\n",
            "Label 9: 200 images\n",
            "Label 10: 55 images\n",
            "\n",
            "Counts for Hydrant:\n",
            "Label 1: 56 images\n",
            "Label 2: 211 images\n",
            "Label 3: 6 images\n",
            "Label 5: 78 images\n",
            "Label 9: 49 images\n",
            "Label 10: 200 images\n",
            "Performance report for Bicycle (Class 1):\n",
            "              precision    recall  f1-score   support\n",
            "\n",
            " Not Class 1       0.75      0.99      0.86       400\n",
            "     Class 1       0.97      0.35      0.51       200\n",
            "\n",
            "    accuracy                           0.78       600\n",
            "   macro avg       0.86      0.67      0.69       600\n",
            "weighted avg       0.83      0.78      0.74       600\n",
            "\n",
            "==================================================\n",
            "Performance report for Car (Class 2):\n",
            "              precision    recall  f1-score   support\n",
            "\n",
            " Not Class 2       0.75      0.94      0.84       400\n",
            "     Class 2       0.76      0.39      0.51       200\n",
            "\n",
            "    accuracy                           0.76       600\n",
            "   macro avg       0.76      0.66      0.68       600\n",
            "weighted avg       0.76      0.76      0.73       600\n",
            "\n",
            "==================================================\n",
            "Performance report for Motorcycle (Class 3):\n",
            "              precision    recall  f1-score   support\n",
            "\n",
            " Not Class 3       0.87      1.00      0.93       400\n",
            "     Class 3       0.96      0.27      0.42        81\n",
            "\n",
            "    accuracy                           0.88       481\n",
            "   macro avg       0.91      0.63      0.68       481\n",
            "weighted avg       0.89      0.88      0.84       481\n",
            "\n",
            "==================================================\n",
            "Performance report for Bus (Class 5):\n",
            "              precision    recall  f1-score   support\n",
            "\n",
            " Not Class 5       0.74      0.99      0.85       400\n",
            "     Class 5       0.95      0.29      0.44       200\n",
            "\n",
            "    accuracy                           0.76       600\n",
            "   macro avg       0.84      0.64      0.65       600\n",
            "weighted avg       0.81      0.76      0.71       600\n",
            "\n",
            "==================================================\n",
            "Performance report for Traffic Light (Class 9):\n",
            "              precision    recall  f1-score   support\n",
            "\n",
            " Not Class 9       0.80      0.96      0.87       400\n",
            "     Class 9       0.86      0.53      0.66       200\n",
            "\n",
            "    accuracy                           0.81       600\n",
            "   macro avg       0.83      0.74      0.76       600\n",
            "weighted avg       0.82      0.81      0.80       600\n",
            "\n",
            "==================================================\n",
            "Performance report for Hydrant (Class 10):\n",
            "              precision    recall  f1-score   support\n",
            "\n",
            "Not Class 10       0.89      0.99      0.94       400\n",
            "    Class 10       0.99      0.76      0.86       200\n",
            "\n",
            "    accuracy                           0.92       600\n",
            "   macro avg       0.94      0.88      0.90       600\n",
            "weighted avg       0.92      0.92      0.91       600\n",
            "\n",
            "==================================================\n"
          ]
        }
      ],
      "source": [
        "for class_name in class_labels.keys():\n",
        "    generator_name = f\"{class_name.lower().replace(' ', '_')}_generator\"\n",
        "    locals()[generator_name] = create_image_generator(class_name)\n",
        "\n",
        "    labels = []\n",
        "    for images, batch_labels in locals()[generator_name]:\n",
        "        labels.extend(batch_labels)\n",
        "\n",
        "    counter = Counter(labels)\n",
        "\n",
        "    print(f\"\\nCounts for {class_name}:\")\n",
        "    for label, count in sorted(counter.items()):\n",
        "        print(f\"Label {label}: {count} images\")\n",
        "\n",
        "for class_name, class_id in class_labels.items():\n",
        "    generator_name = f\"{class_name.lower().replace(' ', '_')}_generator\"\n",
        "    generator_instance = create_image_generator(class_name)\n",
        "    print(f\"Performance report for {class_name} (Class {class_id}):\")\n",
        "    print(binary_classification_report_for_class(class_id, generator_instance, yolo_model))\n",
        "    print(\"=\"*50)\n"
      ]
    },
    {
      "cell_type": "markdown",
      "metadata": {
        "id": "JJdWJyrWt0Zd"
      },
      "source": [
        "| Class          | Accuracy | F1-score (Target Class) | F1-score (Non-Target Class) | Count |\n",
        "|----------------|----------|-------------------------|-----------------------------|-------|\n",
        "| Bicycle        |   0.78   |      0.51               |      0.86                   | 600   |\n",
        "| Bus            |   0.76   |      0.44               |      0.85                   | 600   |\n",
        "| Car            |   0.76   |      0.51               |      0.84                   | 600   |\n",
        "| Hydrant        |   0.92   |      0.86               |      0.94                   | 600   |\n",
        "| Motorcycle     |   0.88   |      0.42               |      0.93                   | 241   |\n",
        "| Traffic Light  |   0.81   |      0.66               |      0.87                   | 600   |\n",
        "| Average Total  |   0.81   |      0.56               |      0.88                   | 6051  |"
      ]
    }
  ],
  "metadata": {
    "colab": {
      "provenance": []
    },
    "kernelspec": {
      "display_name": "Python 3",
      "name": "python3"
    },
    "language_info": {
      "name": "python"
    }
  },
  "nbformat": 4,
  "nbformat_minor": 0
}
