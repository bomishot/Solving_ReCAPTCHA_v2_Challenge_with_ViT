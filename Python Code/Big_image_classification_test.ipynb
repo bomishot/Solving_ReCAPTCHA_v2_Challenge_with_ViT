{
  "nbformat": 4,
  "nbformat_minor": 0,
  "metadata": {
    "colab": {
      "provenance": []
    },
    "kernelspec": {
      "name": "python3",
      "display_name": "Python 3"
    },
    "language_info": {
      "name": "python"
    }
  },
  "cells": [
    {
      "cell_type": "markdown",
      "metadata": {
        "id": "-7PWxCwpqGk1"
      },
      "source": [
        "### Big image classification test\n",
        "\n",
        "class가 자전거인 경우에는 자전거가 포함된 이미지를 1/3 비율로 가져오고, 랜덤하게 선택한 다른 클래스의 이미지를 2/3 비율로 가져와서 테스트를 진행해보았습니다. 이 과정에서 자전거가 아닌 이미지는 클래스 0으로 예측하고, 자전거가 포함된 이미지는 클래스1로 예측하게 됩니다"
      ]
    },
    {
      "cell_type": "code",
      "execution_count": null,
      "metadata": {
        "colab": {
          "base_uri": "https://localhost:8080/"
        },
        "id": "_G-9quTIqKir",
        "outputId": "766c54a3-13a7-4e47-f2d6-e8bd8f21cd43"
      },
      "outputs": [
        {
          "name": "stdout",
          "output_type": "stream",
          "text": [
            "Found 11671 images belonging to 12 classes.\n"
          ]
        }
      ],
      "source": [
        "# 테스트 데이터 생성기\n",
        "test_generator = train_data.flow_from_directory(directory=image_path,\n",
        "                                               target_size=(224, 224),\n",
        "                                               color_mode='rgb',\n",
        "                                               batch_size=10,\n",
        "                                               class_mode='categorical',\n",
        "                                               shuffle=True)"
      ]
    },
    {
      "cell_type": "code",
      "execution_count": null,
      "metadata": {
        "colab": {
          "base_uri": "https://localhost:8080/"
        },
        "id": "VkmkvWh-tJZJ",
        "outputId": "32c3020f-dcfa-4658-b2a6-7bd217a3f230"
      },
      "outputs": [
        {
          "data": {
            "text/plain": [
              "{'Bicycle': 0,\n",
              " 'Bridge': 1,\n",
              " 'Bus': 2,\n",
              " 'Car': 3,\n",
              " 'Chimney': 4,\n",
              " 'Crosswalk': 5,\n",
              " 'Hydrant': 6,\n",
              " 'Motorcycle': 7,\n",
              " 'Other': 8,\n",
              " 'Palm': 9,\n",
              " 'Stair': 10,\n",
              " 'Traffic Light': 11}"
            ]
          },
          "execution_count": 7,
          "metadata": {},
          "output_type": "execute_result"
        }
      ],
      "source": [
        "test_generator.class_indices"
      ]
    },
    {
      "cell_type": "code",
      "execution_count": null,
      "metadata": {
        "id": "Zv8hWcqSFmsr"
      },
      "outputs": [],
      "source": [
        "def create_test_generator(image_path, class_name, exclude_classes):\n",
        "  # 각 라벨별 테스트 생성기 함수\n",
        "  # 라벨 포함 생성기\n",
        "  test_class_generator = train_data.flow_from_directory(\n",
        "    directory=image_path,\n",
        "    target_size=(224, 224),\n",
        "    color_mode='rgb',\n",
        "    batch_size=10,\n",
        "    classes=[class_name],\n",
        "    class_mode='categorical',\n",
        "    shuffle=True\n",
        "  )\n",
        "\n",
        "  # 라벨 제외 생성기\n",
        "  test_non_class_generator = train_data.flow_from_directory(\n",
        "      directory=image_path,\n",
        "      target_size=(224, 224),\n",
        "      color_mode='rgb',\n",
        "      batch_size=10,\n",
        "      classes=[class_name for class_name in test_generator.class_indices.keys() if class_name not in exclude_classes],\n",
        "      class_mode='categorical',\n",
        "      shuffle=True\n",
        "  )\n",
        "\n",
        "  return test_class_generator, test_non_class_generator"
      ]
    },
    {
      "cell_type": "code",
      "execution_count": null,
      "metadata": {
        "colab": {
          "base_uri": "https://localhost:8080/"
        },
        "id": "bTNJv3ocGWS1",
        "outputId": "017d6a9c-8126-4c96-8183-277a7a4faf32"
      },
      "outputs": [
        {
          "name": "stdout",
          "output_type": "stream",
          "text": [
            "Found 780 images belonging to 1 classes.\n",
            "Found 10891 images belonging to 11 classes.\n",
            "Found 533 images belonging to 1 classes.\n",
            "Found 11138 images belonging to 11 classes.\n",
            "Found 1209 images belonging to 1 classes.\n",
            "Found 10462 images belonging to 11 classes.\n",
            "Found 3496 images belonging to 1 classes.\n",
            "Found 8175 images belonging to 11 classes.\n",
            "Found 124 images belonging to 1 classes.\n",
            "Found 11547 images belonging to 11 classes.\n",
            "Found 1240 images belonging to 1 classes.\n",
            "Found 10431 images belonging to 11 classes.\n",
            "Found 955 images belonging to 1 classes.\n",
            "Found 10716 images belonging to 11 classes.\n",
            "Found 81 images belonging to 1 classes.\n",
            "Found 11590 images belonging to 11 classes.\n",
            "Found 911 images belonging to 1 classes.\n",
            "Found 10760 images belonging to 11 classes.\n",
            "Found 211 images belonging to 1 classes.\n",
            "Found 11460 images belonging to 11 classes.\n",
            "Found 791 images belonging to 1 classes.\n",
            "Found 10880 images belonging to 11 classes.\n"
          ]
        }
      ],
      "source": [
        "test_bicycle_generator, test_non_bicycle_generator = create_test_generator(image_path, 'Bicycle', 'Bicycle')\n",
        "test_bridge_generator, test_non_bridge_generator = create_test_generator(image_path, 'Bridge', 'Bridge')\n",
        "test_bus_generator, test_non_bus_generator = create_test_generator(image_path, 'Bus', 'Bus')\n",
        "test_car_generator, test_non_car_generator = create_test_generator(image_path, 'Car', 'Car')\n",
        "test_chimney_generator, test_non_chimney_generator = create_test_generator(image_path, 'Chimney', 'Chimney')\n",
        "test_crosswalk_generator, test_non_crosswalk_generator = create_test_generator(image_path, 'Crosswalk', 'Crosswalk')\n",
        "test_hydrant_generator, test_non_hydrant_generator = create_test_generator(image_path, 'Hydrant', 'Hydrant')\n",
        "test_motorcycle_generator, test_non_motorcycle_generator = create_test_generator(image_path, 'Motorcycle', 'Motorcycle')\n",
        "test_palm_generator, test_non_palm_generator = create_test_generator(image_path, 'Palm', 'Palm')\n",
        "test_stair_generator, test_non_stair_generator = create_test_generator(image_path, 'Stair', 'Stair')\n",
        "test_traffic_light_generator, test_non_traffic_light_generator = create_test_generator(image_path, 'Traffic Light', 'Traffic Light')"
      ]
    },
    {
      "cell_type": "markdown",
      "metadata": {
        "id": "jqGXxhGJ605V"
      },
      "source": [
        "Found 780 images belonging to 1 classes.\n",
        "Found 10891 images belonging to 11 classes.\n",
        "Found 533 images belonging to 1 classes.\n",
        "Found 11138 images belonging to 11 classes.\n",
        "Found 1209 images belonging to 1 classes.\n",
        "Found 10462 images belonging to 11 classes.\n",
        "Found 3496 images belonging to 1 classes.\n",
        "Found 8175 images belonging to 11 classes.\n",
        "Found 124 images belonging to 1 classes.\n",
        "Found 11547 images belonging to 11 classes.\n",
        "Found 1240 images belonging to 1 classes.\n",
        "Found 10431 images belonging to 11 classes.\n",
        "Found 955 images belonging to 1 classes.\n",
        "Found 10716 images belonging to 11 classes.\n",
        "Found 81 images belonging to 1 classes.\n",
        "Found 11590 images belonging to 11 classes.\n",
        "Found 911 images belonging to 1 classes.\n",
        "Found 10760 images belonging to 11 classes.\n",
        "Found 211 images belonging to 1 classes.\n",
        "Found 11460 images belonging to 11 classes.\n",
        "Found 791 images belonging to 1 classes.\n",
        "Found 10880 images belonging to 11 classes."
      ]
    },
    {
      "cell_type": "markdown",
      "metadata": {
        "id": "5wbHF--r60sE"
      },
      "source": []
    },
    {
      "cell_type": "code",
      "execution_count": null,
      "metadata": {
        "id": "UPNi8mH9Aay0"
      },
      "outputs": [],
      "source": [
        "def load_images_from_generator(generator, num_images):\n",
        "    images = []\n",
        "    labels = []\n",
        "    num_loaded = 0\n",
        "\n",
        "    while num_loaded < num_images:\n",
        "        batch_images, batch_labels = next(generator)\n",
        "        images.append(batch_images)\n",
        "        labels.append(batch_labels)\n",
        "        num_loaded += len(batch_images)\n",
        "\n",
        "    images = np.concatenate(images)[:num_images]\n",
        "    labels = np.concatenate(labels)[:num_images]\n",
        "\n",
        "    return images, labels"
      ]
    },
    {
      "cell_type": "code",
      "execution_count": null,
      "metadata": {
        "id": "2ulXhhjXdfAu"
      },
      "outputs": [],
      "source": [
        "bicycle_images, bicycle_labels = load_images_from_generator(test_bicycle_generator, 200)\n",
        "non_bicycle_images, non_bicycle_labels = load_images_from_generator(test_non_bicycle_generator, 400)"
      ]
    },
    {
      "cell_type": "code",
      "execution_count": null,
      "metadata": {
        "id": "hdi6nR2KeRYK"
      },
      "outputs": [],
      "source": [
        "bridge_images, bridge_labels = load_images_from_generator(test_bridge_generator, 200)\n",
        "non_bridge_images, non_bridge_labels = load_images_from_generator(test_non_bridge_generator, 400)"
      ]
    },
    {
      "cell_type": "code",
      "execution_count": null,
      "metadata": {
        "id": "jwpRa30BeRJK"
      },
      "outputs": [],
      "source": [
        "bus_images, bus_labels = load_images_from_generator(test_bus_generator, 200)\n",
        "non_bus_images, non_bus_labels = load_images_from_generator(test_non_bus_generator, 400)"
      ]
    },
    {
      "cell_type": "code",
      "execution_count": null,
      "metadata": {
        "id": "bEEubnyTh9XB"
      },
      "outputs": [],
      "source": [
        "car_images, car_labels = load_images_from_generator(test_car_generator, 200)\n",
        "non_car_images, non_car_labels = load_images_from_generator(test_non_car_generator, 400)"
      ]
    },
    {
      "cell_type": "code",
      "execution_count": null,
      "metadata": {
        "id": "t_WQGvPhh9Tk"
      },
      "outputs": [],
      "source": [
        "chimney_images, chimney_labels = load_images_from_generator(test_chimney_generator, 200)\n",
        "non_chimney_images, non_chimney_labels = load_images_from_generator(test_non_chimney_generator, 400)"
      ]
    },
    {
      "cell_type": "code",
      "execution_count": null,
      "metadata": {
        "id": "fvFTLE8-h9Qn"
      },
      "outputs": [],
      "source": [
        "cro_images, cro_labels = load_images_from_generator(test_crosswalk_generator, 200)\n",
        "non_cro_images, non_cro_labels = load_images_from_generator(test_non_crosswalk_generator, 400)"
      ]
    },
    {
      "cell_type": "code",
      "execution_count": null,
      "metadata": {
        "id": "E_sFNvZY_4SR"
      },
      "outputs": [],
      "source": [
        "hydrant_images, hydrant_labels = load_images_from_generator(test_hydrant_generator, 200)\n",
        "non_hydrant_images, non_hydrant_labels = load_images_from_generator(test_non_hydrant_generator, 400)"
      ]
    },
    {
      "cell_type": "code",
      "execution_count": null,
      "metadata": {
        "id": "r1_KREvXAIlt"
      },
      "outputs": [],
      "source": [
        "moto_images, moto_labels = load_images_from_generator(test_motorcycle_generator, 81)\n",
        "non_moto_images, non_moto_labels = load_images_from_generator(test_non_motorcycle_generator, 160)"
      ]
    },
    {
      "cell_type": "code",
      "execution_count": null,
      "metadata": {
        "id": "4aTy2AUUAIff"
      },
      "outputs": [],
      "source": [
        "palm_images, palm_labels = load_images_from_generator(test_palm_generator, 200)\n",
        "non_palm_images, non_palm_labels = load_images_from_generator(test_non_palm_generator, 400)"
      ]
    },
    {
      "cell_type": "code",
      "execution_count": null,
      "metadata": {
        "id": "MyiuKUIMAn9L"
      },
      "outputs": [],
      "source": [
        "stair_images, stair_labels = load_images_from_generator(test_stair_generator, 200)\n",
        "non_stair_images, non_stair_labels = load_images_from_generator(test_non_stair_generator, 400)"
      ]
    },
    {
      "cell_type": "code",
      "execution_count": null,
      "metadata": {
        "id": "D7NBJzpwAn5z"
      },
      "outputs": [],
      "source": [
        "tf_images, tf_labels = load_images_from_generator(test_traffic_light_generator, 200)\n",
        "non_tf_images, non_tf_labels = load_images_from_generator(test_non_traffic_light_generator, 400)"
      ]
    },
    {
      "cell_type": "code",
      "execution_count": null,
      "metadata": {
        "id": "h85cpryPde6a"
      },
      "outputs": [],
      "source": [
        "class_indices = test_generator.class_indices\n",
        "\n",
        "predictions = []\n",
        "true_labels = []\n",
        "\n",
        "class_name = 'Bicycle'\n",
        "\n",
        "bicycle_preds = vit_model.predict(bicycle_images)\n",
        "\n",
        "for pred, label in zip(bicycle_preds, np.argmax(bicycle_labels, axis=1)):\n",
        "    print('label', label)\n",
        "    if label == 0:\n",
        "        predicted_class = np.argmax(pred)\n",
        "        print('pred', predicted_class)\n",
        "        if predicted_class == 0:\n",
        "            predictions.append(1)\n",
        "            true_labels.append(1)\n",
        "            #print('pred : 1, true : 1')\n",
        "        else:\n",
        "            predictions.append(0)\n",
        "            true_labels.append(1)\n",
        "            #print('pred : 0, true : 1')\n",
        "\n",
        "\n",
        "non_bicycle_preds = vit_model.predict(non_bicycle_images)\n",
        "\n",
        "for pred, label in zip(non_bicycle_preds, np.argmax(non_bicycle_labels, axis=1)):\n",
        "    print(label)\n",
        "    if label != 0:\n",
        "        predicted_class = np.argmax(pred)\n",
        "        print('pred', predicted_class)\n",
        "        if predicted_class == 0:\n",
        "            predictions.append(1)\n",
        "            true_labels.append(0)\n",
        "            #print('pred : 1, true : 0')\n",
        "        else:\n",
        "            predictions.append(0)\n",
        "            true_labels.append(0)\n",
        "            #print('pred : 0, true : 0')\n",
        "\n",
        "report_bicycle = classification_report(true_labels, predictions)"
      ]
    },
    {
      "cell_type": "code",
      "execution_count": null,
      "metadata": {
        "colab": {
          "base_uri": "https://localhost:8080/"
        },
        "id": "l0mO9clSde2l",
        "outputId": "dbbf5af7-4bad-41ea-c83e-309fc2d72890"
      },
      "outputs": [
        {
          "name": "stdout",
          "output_type": "stream",
          "text": [
            "              precision    recall  f1-score   support\n",
            "\n",
            "           0       0.99      1.00      1.00       380\n",
            "           1       0.99      0.99      0.99       200\n",
            "\n",
            "    accuracy                           0.99       580\n",
            "   macro avg       0.99      0.99      0.99       580\n",
            "weighted avg       0.99      0.99      0.99       580\n",
            "\n"
          ]
        }
      ],
      "source": [
        "print(report_bicycle)"
      ]
    },
    {
      "cell_type": "code",
      "execution_count": null,
      "metadata": {
        "id": "u9oGBsfbJymS"
      },
      "outputs": [],
      "source": [
        "class_indices = test_generator.class_indices\n",
        "\n",
        "predictions = []\n",
        "true_labels = []\n",
        "\n",
        "class_name = 'Bridge'\n",
        "\n",
        "bridge_preds = vit_model.predict(bridge_images)\n",
        "\n",
        "for pred, label in zip(bridge_preds, np.argmax(bridge_labels, axis=1)):\n",
        "    print('label', label)\n",
        "    if label == 0:\n",
        "        predicted_class = np.argmax(pred)\n",
        "        print('pred', predicted_class)\n",
        "        if predicted_class == 1:\n",
        "            predictions.append(1)\n",
        "            true_labels.append(1)\n",
        "            #print('pred : 1, true : 1')\n",
        "        else:\n",
        "            predictions.append(0)\n",
        "            true_labels.append(1)\n",
        "            #print('pred : 0, true : 1')\n",
        "\n",
        "non_bridge_preds = vit_model.predict(non_bridge_images)\n",
        "\n",
        "for pred, label in zip(non_bridge_preds, np.argmax(non_bridge_labels, axis=1)):\n",
        "    print(label)\n",
        "    if label != 0:\n",
        "        predicted_class = np.argmax(pred)\n",
        "        if predicted_class == 1:\n",
        "            predictions.append(1)\n",
        "            true_labels.append(0)\n",
        "            #print('pred : 1, true : 0')\n",
        "        else:\n",
        "            predictions.append(0)\n",
        "            true_labels.append(0)\n",
        "            #print('pred : 0, true : 0')\n",
        "\n",
        "\n",
        "report_bridge = classification_report(true_labels, predictions)"
      ]
    },
    {
      "cell_type": "code",
      "execution_count": null,
      "metadata": {
        "colab": {
          "base_uri": "https://localhost:8080/"
        },
        "id": "s3VJhiMXhtIa",
        "outputId": "66dae6e4-9e66-45be-e2e7-0d9c48e39b98"
      },
      "outputs": [
        {
          "name": "stdout",
          "output_type": "stream",
          "text": [
            "              precision    recall  f1-score   support\n",
            "\n",
            "           0       0.96      1.00      0.98       368\n",
            "           1       1.00      0.93      0.96       200\n",
            "\n",
            "    accuracy                           0.97       568\n",
            "   macro avg       0.98      0.96      0.97       568\n",
            "weighted avg       0.97      0.97      0.97       568\n",
            "\n"
          ]
        }
      ],
      "source": [
        "print(report_bridge)"
      ]
    },
    {
      "cell_type": "code",
      "execution_count": null,
      "metadata": {
        "id": "5XPUkzTQMxXx"
      },
      "outputs": [],
      "source": [
        "from sklearn.metrics import classification_report\n",
        "\n",
        "class_indices = test_generator.class_indices\n",
        "\n",
        "predictions = []\n",
        "true_labels = []\n",
        "\n",
        "class_name = 'Bus'  # Change 'Bridge' to 'Bus'\n",
        "\n",
        "bus_preds = vit_model.predict(bus_images)\n",
        "\n",
        "for pred, label in zip(bus_preds, np.argmax(bus_labels, axis=1)):\n",
        "    print(label)\n",
        "    if label == 0:\n",
        "        predicted_class = np.argmax(pred)\n",
        "        if predicted_class == class_indices[class_name]:\n",
        "            predictions.append(1)\n",
        "            true_labels.append(1)\n",
        "            print('pred : 1, true : 1')\n",
        "        else:\n",
        "            predictions.append(0)\n",
        "            true_labels.append(1)\n",
        "            print('pred : 0, true : 1')\n",
        "\n",
        "non_bus_preds = vit_model.predict(non_bus_images)\n",
        "\n",
        "for pred, label in zip(non_bus_preds, np.argmax(non_bus_labels, axis=1)):\n",
        "    print(label)\n",
        "    if label != 0:\n",
        "        predicted_class = np.argmax(pred)\n",
        "        if predicted_class == class_indices[class_name]:\n",
        "            predictions.append(1)\n",
        "            true_labels.append(0)\n",
        "            print('pred : 1, true : 0')\n",
        "        else:\n",
        "            predictions.append(0)\n",
        "            true_labels.append(0)\n",
        "            print('pred : 0, true : 0')\n",
        "\n",
        "report_bus = classification_report(true_labels, predictions)"
      ]
    },
    {
      "cell_type": "code",
      "execution_count": null,
      "metadata": {
        "colab": {
          "base_uri": "https://localhost:8080/"
        },
        "id": "r0-kjWV9BLC0",
        "outputId": "d850ae98-4b4d-414a-dbdf-0a4c6c1450fa"
      },
      "outputs": [
        {
          "name": "stdout",
          "output_type": "stream",
          "text": [
            "              precision    recall  f1-score   support\n",
            "\n",
            "           0       0.99      1.00      0.99       374\n",
            "           1       1.00      0.98      0.99       200\n",
            "\n",
            "    accuracy                           0.99       574\n",
            "   macro avg       0.99      0.99      0.99       574\n",
            "weighted avg       0.99      0.99      0.99       574\n",
            "\n"
          ]
        }
      ],
      "source": [
        "print(report_bus)"
      ]
    },
    {
      "cell_type": "code",
      "execution_count": null,
      "metadata": {
        "id": "tVVg2M94Bp6q"
      },
      "outputs": [],
      "source": [
        "class_indices = test_generator.class_indices\n",
        "\n",
        "predictions = []\n",
        "true_labels = []\n",
        "\n",
        "class_name = 'Car'  # Change 'Bridge' to 'Bus'\n",
        "\n",
        "car_preds = vit_model.predict(car_images)\n",
        "\n",
        "for pred, label in zip(car_preds, np.argmax(car_labels, axis=1)):\n",
        "    print(label)\n",
        "    if label == 0:\n",
        "        predicted_class = np.argmax(pred)\n",
        "        if predicted_class == class_indices[class_name]:\n",
        "            predictions.append(1)\n",
        "            true_labels.append(1)\n",
        "            print('pred : 1, true : 1')\n",
        "        else:\n",
        "            predictions.append(0)\n",
        "            true_labels.append(1)\n",
        "            print('pred : 0, true : 1')\n",
        "\n",
        "non_car_preds = vit_model.predict(non_car_images)\n",
        "\n",
        "for pred, label in zip(non_car_preds, np.argmax(non_car_labels, axis=1)):\n",
        "    print(label)\n",
        "    if label != 0:\n",
        "        predicted_class = np.argmax(pred)\n",
        "        if predicted_class == class_indices[class_name]:\n",
        "            predictions.append(1)\n",
        "            true_labels.append(0)\n",
        "            print('pred : 1, true : 0')\n",
        "        else:\n",
        "            predictions.append(0)\n",
        "            true_labels.append(0)\n",
        "            print('pred : 0, true : 0')\n",
        "\n",
        "report_car = classification_report(true_labels, predictions)"
      ]
    },
    {
      "cell_type": "code",
      "execution_count": null,
      "metadata": {
        "colab": {
          "base_uri": "https://localhost:8080/"
        },
        "id": "UR8l6k8mBXD_",
        "outputId": "bee2cebc-e675-4d52-9143-5599b5d49c84"
      },
      "outputs": [
        {
          "name": "stdout",
          "output_type": "stream",
          "text": [
            "              precision    recall  f1-score   support\n",
            "\n",
            "           0       0.99      0.93      0.96       367\n",
            "           1       0.88      0.97      0.93       200\n",
            "\n",
            "    accuracy                           0.95       567\n",
            "   macro avg       0.93      0.95      0.94       567\n",
            "weighted avg       0.95      0.95      0.95       567\n",
            "\n"
          ]
        }
      ],
      "source": [
        "print(report_car)"
      ]
    },
    {
      "cell_type": "code",
      "execution_count": null,
      "metadata": {
        "id": "meq8OFgwCMHq"
      },
      "outputs": [],
      "source": [
        "class_indices = test_generator.class_indices\n",
        "\n",
        "predictions = []\n",
        "true_labels = []\n",
        "\n",
        "class_name = 'Chimney'  # Change 'Bridge' to 'Bus'\n",
        "\n",
        "chimney_preds = vit_model.predict(chimney_images)\n",
        "\n",
        "for pred, label in zip(chimney_preds, np.argmax(chimney_labels, axis=1)):\n",
        "    print(label)\n",
        "    if label == 0:\n",
        "        predicted_class = np.argmax(pred)\n",
        "        if predicted_class == class_indices[class_name]:\n",
        "            predictions.append(1)\n",
        "            true_labels.append(1)\n",
        "            print('pred : 1, true : 1')\n",
        "        else:\n",
        "            predictions.append(0)\n",
        "            true_labels.append(1)\n",
        "            print('pred : 0, true : 1')\n",
        "\n",
        "non_chimney_preds = vit_model.predict(non_chimney_images)\n",
        "\n",
        "for pred, label in zip(non_chimney_preds, np.argmax(non_chimney_labels, axis=1)):\n",
        "    print(label)\n",
        "    if label != 0:\n",
        "        predicted_class = np.argmax(pred)\n",
        "        if predicted_class == class_indices[class_name]:\n",
        "            predictions.append(1)\n",
        "            true_labels.append(0)\n",
        "            print('pred : 1, true : 0')\n",
        "        else:\n",
        "            predictions.append(0)\n",
        "            true_labels.append(0)\n",
        "            print('pred : 0, true : 0')\n",
        "\n",
        "report_chimney = classification_report(true_labels, predictions)"
      ]
    },
    {
      "cell_type": "code",
      "execution_count": null,
      "metadata": {
        "colab": {
          "base_uri": "https://localhost:8080/"
        },
        "id": "1ljIbQppBbrG",
        "outputId": "dc47c62e-56f1-4b83-bf57-e53ca3d1a35d"
      },
      "outputs": [
        {
          "name": "stdout",
          "output_type": "stream",
          "text": [
            "              precision    recall  f1-score   support\n",
            "\n",
            "           0       0.95      1.00      0.98       369\n",
            "           1       1.00      0.91      0.95       200\n",
            "\n",
            "    accuracy                           0.97       569\n",
            "   macro avg       0.98      0.96      0.96       569\n",
            "weighted avg       0.97      0.97      0.97       569\n",
            "\n"
          ]
        }
      ],
      "source": [
        "print(report_chimney)"
      ]
    },
    {
      "cell_type": "code",
      "execution_count": null,
      "metadata": {
        "id": "VduuYBYFE8DP"
      },
      "outputs": [],
      "source": [
        "class_indices = test_generator.class_indices\n",
        "\n",
        "predictions = []\n",
        "true_labels = []\n",
        "\n",
        "class_name = 'Crosswalk'  # Change 'Bridge' to 'Bus'\n",
        "\n",
        "cro_preds = vit_model.predict(cro_images)\n",
        "\n",
        "for pred, label in zip(cro_preds, np.argmax(cro_labels, axis=1)):\n",
        "    print(label)\n",
        "    if label == 0:\n",
        "        predicted_class = np.argmax(pred)\n",
        "        if predicted_class == class_indices[class_name]:\n",
        "            predictions.append(1)\n",
        "            true_labels.append(1)\n",
        "            print('pred : 1, true : 1')\n",
        "        else:\n",
        "            predictions.append(0)\n",
        "            true_labels.append(1)\n",
        "            print('pred : 0, true : 1')\n",
        "\n",
        "non_cro_preds = vit_model.predict(non_cro_images)\n",
        "\n",
        "for pred, label in zip(non_cro_preds, np.argmax(non_cro_labels, axis=1)):\n",
        "    print(label)\n",
        "    if label != 0:\n",
        "        predicted_class = np.argmax(pred)\n",
        "        if predicted_class == class_indices[class_name]:\n",
        "            predictions.append(1)\n",
        "            true_labels.append(0)\n",
        "            print('pred : 1, true : 0')\n",
        "        else:\n",
        "            predictions.append(0)\n",
        "            true_labels.append(0)\n",
        "            print('pred : 0, true : 0')\n",
        "\n",
        "report_crosswalk = classification_report(true_labels, predictions)"
      ]
    },
    {
      "cell_type": "code",
      "execution_count": null,
      "metadata": {
        "colab": {
          "base_uri": "https://localhost:8080/"
        },
        "id": "f4CVSHpAB2ur",
        "outputId": "236522c5-0ef9-46be-aaae-ffb181b89b58"
      },
      "outputs": [
        {
          "name": "stdout",
          "output_type": "stream",
          "text": [
            "              precision    recall  f1-score   support\n",
            "\n",
            "           0       0.93      1.00      0.97       371\n",
            "           1       1.00      0.87      0.93       200\n",
            "\n",
            "    accuracy                           0.95       571\n",
            "   macro avg       0.97      0.94      0.95       571\n",
            "weighted avg       0.96      0.95      0.95       571\n",
            "\n"
          ]
        }
      ],
      "source": [
        "print(report_crosswalk)"
      ]
    },
    {
      "cell_type": "code",
      "execution_count": null,
      "metadata": {
        "id": "Yb1LzhlpE79H"
      },
      "outputs": [],
      "source": [
        "class_indices = test_generator.class_indices\n",
        "\n",
        "predictions = []\n",
        "true_labels = []\n",
        "\n",
        "class_name = 'Hydrant'  # Change 'Bridge' to 'Bus'\n",
        "\n",
        "hydrant_preds = vit_model.predict(hydrant_images)\n",
        "\n",
        "for pred, label in zip(hydrant_preds, np.argmax(hydrant_labels, axis=1)):\n",
        "    print(label)\n",
        "    if label == 0:\n",
        "        predicted_class = np.argmax(pred)\n",
        "        if predicted_class == class_indices[class_name]:\n",
        "            predictions.append(1)\n",
        "            true_labels.append(1)\n",
        "            print('pred : 1, true : 1')\n",
        "        else:\n",
        "            predictions.append(0)\n",
        "            true_labels.append(1)\n",
        "            print('pred : 0, true : 1')\n",
        "\n",
        "non_hydrant_preds = vit_model.predict(non_hydrant_images)\n",
        "\n",
        "for pred, label in zip(non_hydrant_preds, np.argmax(non_hydrant_labels, axis=1)):\n",
        "    print(label)\n",
        "    if label != 0:\n",
        "        predicted_class = np.argmax(pred)\n",
        "        if predicted_class == class_indices[class_name]:\n",
        "            predictions.append(1)\n",
        "            true_labels.append(0)\n",
        "            print('pred : 1, true : 0')\n",
        "        else:\n",
        "            predictions.append(0)\n",
        "            true_labels.append(0)\n",
        "            print('pred : 0, true : 0')\n",
        "\n",
        "report_hydrant = classification_report(true_labels, predictions)"
      ]
    },
    {
      "cell_type": "code",
      "execution_count": null,
      "metadata": {
        "colab": {
          "base_uri": "https://localhost:8080/"
        },
        "id": "sdGu_8LCBv5F",
        "outputId": "ddd3b897-7715-41e0-9dae-107acab2f56c"
      },
      "outputs": [
        {
          "name": "stdout",
          "output_type": "stream",
          "text": [
            "              precision    recall  f1-score   support\n",
            "\n",
            "           0       1.00      1.00      1.00       368\n",
            "           1       1.00      1.00      1.00       200\n",
            "\n",
            "    accuracy                           1.00       568\n",
            "   macro avg       1.00      1.00      1.00       568\n",
            "weighted avg       1.00      1.00      1.00       568\n",
            "\n"
          ]
        }
      ],
      "source": [
        "print(report_hydrant)"
      ]
    },
    {
      "cell_type": "code",
      "execution_count": null,
      "metadata": {
        "id": "dFJD3Qm7VTIs"
      },
      "outputs": [],
      "source": [
        "class_indices = test_generator.class_indices\n",
        "\n",
        "class_name = 'Motorcycle'\n",
        "moto_preds = vit_model.predict(moto_images)\n",
        "\n",
        "predictions = []\n",
        "true_labels = []\n",
        "\n",
        "for pred, label in zip(moto_preds, np.argmax(moto_labels, axis=1)):\n",
        "    print(label)\n",
        "    if label == 0:\n",
        "        predicted_class = np.argmax(pred)\n",
        "        if predicted_class == class_indices[class_name]:\n",
        "            predictions.append(1)\n",
        "            true_labels.append(1)\n",
        "            print('pred : 1, true : 1')\n",
        "        else:\n",
        "            predictions.append(0)\n",
        "            true_labels.append(1)\n",
        "            print('pred : 0, true : 1')\n",
        "\n",
        "non_moto_preds = vit_model.predict(non_moto_images)\n",
        "\n",
        "for pred, label in zip(non_moto_preds, np.argmax(non_moto_labels, axis=1)):\n",
        "    print(label)\n",
        "    if label != 0:\n",
        "        predicted_class = np.argmax(pred)\n",
        "        if predicted_class == class_indices[class_name]:\n",
        "            predictions.append(1)\n",
        "            true_labels.append(0)\n",
        "            print('pred : 1, true : 0')\n",
        "        else:\n",
        "            predictions.append(0)\n",
        "            true_labels.append(0)\n",
        "            print('pred : 0, true : 0')\n",
        "\n",
        "report_moto = classification_report(true_labels, predictions)"
      ]
    },
    {
      "cell_type": "code",
      "execution_count": null,
      "metadata": {
        "colab": {
          "base_uri": "https://localhost:8080/"
        },
        "id": "bRs54jWtVTEk",
        "outputId": "995a854c-a206-41f1-f7eb-d7f890fa8044"
      },
      "outputs": [
        {
          "name": "stdout",
          "output_type": "stream",
          "text": [
            "              precision    recall  f1-score   support\n",
            "\n",
            "           0       0.99      0.99      0.99       294\n",
            "           1       0.97      0.95      0.96        81\n",
            "\n",
            "    accuracy                           0.98       375\n",
            "   macro avg       0.98      0.97      0.98       375\n",
            "weighted avg       0.98      0.98      0.98       375\n",
            "\n"
          ]
        }
      ],
      "source": [
        "print(report_moto)"
      ]
    },
    {
      "cell_type": "code",
      "execution_count": null,
      "metadata": {
        "id": "KNlKUFuvoAEN"
      },
      "outputs": [],
      "source": [
        "class_indices = test_generator.class_indices\n",
        "\n",
        "predictions = []\n",
        "true_labels = []\n",
        "\n",
        "class_name = 'Palm'  # Change 'Bridge' to 'Bus'\n",
        "\n",
        "palm_preds = vit_model.predict(palm_images)\n",
        "\n",
        "for pred, label in zip(palm_preds, np.argmax(palm_labels, axis=1)):\n",
        "    print(label)\n",
        "    if label == 0:\n",
        "        predicted_class = np.argmax(pred)\n",
        "        if predicted_class == class_indices[class_name]:\n",
        "            predictions.append(1)\n",
        "            true_labels.append(1)\n",
        "            print('pred : 1, true : 1')\n",
        "        else:\n",
        "            predictions.append(0)\n",
        "            true_labels.append(1)\n",
        "            print('pred : 0, true : 1')\n",
        "\n",
        "\n",
        "non_palm_preds = vit_model.predict(non_palm_images)\n",
        "\n",
        "for pred, label in zip(non_palm_preds, np.argmax(non_palm_labels, axis=1)):\n",
        "    print(label)\n",
        "    if label != 0:\n",
        "        predicted_class = np.argmax(pred)\n",
        "        if predicted_class == class_indices[class_name]:\n",
        "            predictions.append(1)\n",
        "            true_labels.append(0)\n",
        "            print('pred : 1, true : 0')\n",
        "        else:\n",
        "            predictions.append(0)\n",
        "            true_labels.append(0)\n",
        "            print('pred : 0, true : 0')\n",
        "\n",
        "report_palm = classification_report(true_labels, predictions)"
      ]
    },
    {
      "cell_type": "code",
      "execution_count": null,
      "metadata": {
        "colab": {
          "base_uri": "https://localhost:8080/"
        },
        "id": "GUz8M0y1oAAy",
        "outputId": "a57e1fd6-3811-4747-871f-80d1d23e4ae3"
      },
      "outputs": [
        {
          "name": "stdout",
          "output_type": "stream",
          "text": [
            "              precision    recall  f1-score   support\n",
            "\n",
            "           0       0.98      0.99      0.99       371\n",
            "           1       0.99      0.97      0.98       200\n",
            "\n",
            "    accuracy                           0.99       571\n",
            "   macro avg       0.99      0.98      0.98       571\n",
            "weighted avg       0.99      0.99      0.99       571\n",
            "\n"
          ]
        }
      ],
      "source": [
        "print(report_palm)"
      ]
    },
    {
      "cell_type": "code",
      "execution_count": null,
      "metadata": {
        "id": "Djm_04kvfAMG"
      },
      "outputs": [],
      "source": [
        "class_indices = test_generator.class_indices\n",
        "\n",
        "predictions = []\n",
        "true_labels = []\n",
        "\n",
        "class_name = 'Stair'  # Change 'Bridge' to 'Bus'\n",
        "\n",
        "stair_preds = vit_model.predict(stair_images)\n",
        "\n",
        "for pred, label in zip(stair_preds, np.argmax(stair_labels, axis=1)):\n",
        "    print(label)\n",
        "    if label == 0:\n",
        "        predicted_class = np.argmax(pred)\n",
        "        if predicted_class == class_indices[class_name]:\n",
        "            predictions.append(1)\n",
        "            true_labels.append(1)\n",
        "            print('pred : 1, true : 1')\n",
        "        else:\n",
        "            predictions.append(0)\n",
        "            true_labels.append(1)\n",
        "            print('pred : 0, true : 1')\n",
        "\n",
        "\n",
        "non_stair_preds = vit_model.predict(non_stair_images)\n",
        "\n",
        "for pred, label in zip(non_stair_preds, np.argmax(non_stair_labels, axis=1)):\n",
        "    print(label)\n",
        "    if label != 0:\n",
        "        predicted_class = np.argmax(pred)\n",
        "        if predicted_class == class_indices[class_name]:\n",
        "            predictions.append(1)\n",
        "            true_labels.append(0)\n",
        "            print('pred : 1, true : 0')\n",
        "        else:\n",
        "            predictions.append(0)\n",
        "            true_labels.append(0)\n",
        "            print('pred : 0, true : 0')\n",
        "\n",
        "report_stair = classification_report(true_labels, predictions)"
      ]
    },
    {
      "cell_type": "code",
      "execution_count": null,
      "metadata": {
        "colab": {
          "base_uri": "https://localhost:8080/"
        },
        "id": "-xBlekJq2Yn0",
        "outputId": "62b508ab-42f8-47ad-c068-b989c7016886"
      },
      "outputs": [
        {
          "name": "stdout",
          "output_type": "stream",
          "text": [
            "              precision    recall  f1-score   support\n",
            "\n",
            "           0       0.94      1.00      0.97       373\n",
            "           1       1.00      0.89      0.94       200\n",
            "\n",
            "    accuracy                           0.96       573\n",
            "   macro avg       0.97      0.94      0.95       573\n",
            "weighted avg       0.96      0.96      0.96       573\n",
            "\n"
          ]
        }
      ],
      "source": [
        "print(report_stair)"
      ]
    },
    {
      "cell_type": "code",
      "execution_count": null,
      "metadata": {
        "id": "nohgl1fibrxj"
      },
      "outputs": [],
      "source": [
        "class_indices = test_generator.class_indices\n",
        "\n",
        "predictions = []\n",
        "true_labels = []\n",
        "\n",
        "class_name = 'Traffic Light'  # Change 'Bridge' to 'Bus'\n",
        "\n",
        "tf_preds = vit_model.predict(tf_images)\n",
        "\n",
        "for pred, label in zip(tf_preds, np.argmax(tf_labels, axis=1)):\n",
        "    print(label)\n",
        "    if label == 0:\n",
        "        predicted_class = np.argmax(pred)\n",
        "        if predicted_class == class_indices[class_name]:\n",
        "            predictions.append(1)\n",
        "            true_labels.append(1)\n",
        "            print('pred : 1, true : 1')\n",
        "        else:\n",
        "            predictions.append(0)\n",
        "            true_labels.append(1)\n",
        "            print('pred : 0, true : 1')\n",
        "\n",
        "\n",
        "non_tf_preds = vit_model.predict(non_tf_images)\n",
        "\n",
        "for pred, label in zip(non_tf_preds, np.argmax(non_tf_labels, axis=1)):\n",
        "    print(label)\n",
        "    if label != 0:\n",
        "        predicted_class = np.argmax(pred)\n",
        "        if predicted_class == class_indices[class_name]:\n",
        "            predictions.append(1)\n",
        "            true_labels.append(0)\n",
        "            print('pred : 1, true : 0')\n",
        "        else:\n",
        "            predictions.append(0)\n",
        "            true_labels.append(0)\n",
        "            print('pred : 0, true : 0')\n",
        "\n",
        "report_tf = classification_report(true_labels, predictions)"
      ]
    },
    {
      "cell_type": "code",
      "execution_count": null,
      "metadata": {
        "colab": {
          "base_uri": "https://localhost:8080/"
        },
        "id": "HJ8tnObYbrrz",
        "outputId": "5f335e14-df26-49f3-8611-5b8ee733b51e"
      },
      "outputs": [
        {
          "name": "stdout",
          "output_type": "stream",
          "text": [
            "              precision    recall  f1-score   support\n",
            "\n",
            "           0       0.91      1.00      0.95       376\n",
            "           1       1.00      0.81      0.90       200\n",
            "\n",
            "    accuracy                           0.94       576\n",
            "   macro avg       0.96      0.91      0.93       576\n",
            "weighted avg       0.94      0.94      0.93       576\n",
            "\n"
          ]
        }
      ],
      "source": [
        "print(report_tf)"
      ]
    },
    {
      "cell_type": "markdown",
      "metadata": {
        "id": "OpmzkogxJQGk"
      },
      "source": [
        "| Class          | Accuracy | F1-score about each class | F1-score about except class | count |\n",
        "|----------------|----------|------------------|------------------|---------|\n",
        "| Bicycle        |   0.99   |      1.00        |      0.99        | 607 |\n",
        "| Bridge         |   0.96   |      0.97        |      0.94        | 574 |\n",
        "| Bus            |   0.99   |      0.99        |      0.98        | 5700 |\n",
        "| Car            |   0.95   |      0.96        |      0.93        | 5627\n",
        "| Chimney        |   0.97   |      0.98        |      0.95        |5635|\n",
        "| Crosswalk      |   0.95   |      0.96        |      0.92        |5696|\n",
        "| Hydrant        |   1.00   |      1.00        |      1.00        |5693|\n",
        "| Motorcycle     |   0.87   |      0.92        |      0.58        |\n",
        "| Palm           |   0.88   |      0.91        |      0.81        |\n",
        "| Stair          |   0.78   |      0.87        |      0.29        |\n",
        "| Traffic Light  |   0.92   |      0.95        |      0.81        |\n",
        "| Total          |   0.87   |      0.91        |      0.68        |\n",
        "\n",
        "\n",
        "\n"
      ]
    }
  ]
}